{
 "cells": [
  {
   "cell_type": "code",
   "execution_count": 1,
   "metadata": {},
   "outputs": [],
   "source": [
    "import numpy as np\n",
    "import helper_functions as functions"
   ]
  },
  {
   "cell_type": "code",
   "execution_count": 2,
   "metadata": {},
   "outputs": [],
   "source": [
    "# Convert raw dataset\n",
    "recalls, recalls_sp, listlengths, sessionlengths, subjects, subjs, presented_words, recalled_words, presents = functions.load_data2()"
   ]
  },
  {
   "cell_type": "code",
   "execution_count": 3,
   "metadata": {},
   "outputs": [
    {
     "name": "stdout",
     "output_type": "stream",
     "text": [
      "There are in total 17369 study trials.\n",
      "There are in total 17341 recall trials.\n"
     ]
    }
   ],
   "source": [
    "# Note that not every study trial has a correponding recall trial.\n",
    "print(\"There are in total {} study trials.\".format(len(presents)))\n",
    "print(\"There are in total {} recall trials.\".format(len(recalls)))"
   ]
  },
  {
   "cell_type": "code",
   "execution_count": 4,
   "metadata": {},
   "outputs": [
    {
     "name": "stdout",
     "output_type": "stream",
     "text": [
      "For list 100, there are 16 items studied:\n",
      "[subject index, session index, word index, list index, serial position, actual word]\n"
     ]
    },
    {
     "data": {
      "text/plain": [
       "[[63, 1, 737, 0, 0, 'INFANT'],\n",
       " [63, 1, 203, 0, 1, 'BUTCHER'],\n",
       " [63, 1, 913, 0, 2, 'MONUMENT'],\n",
       " [63, 1, 382, 0, 3, 'CORPORATION'],\n",
       " [63, 1, 31, 0, 4, 'APE'],\n",
       " [63, 1, 733, 0, 5, 'IDOL'],\n",
       " [63, 1, 1618, 0, 6, 'WITNESS'],\n",
       " [63, 1, 391, 0, 7, 'COURT'],\n",
       " [63, 1, 1171, 0, 8, 'RAZOR'],\n",
       " [63, 1, 1258, 0, 9, 'SCULPTURE'],\n",
       " [63, 1, 931, 0, 10, 'MULE'],\n",
       " [63, 1, 1221, 0, 11, 'SADDLE'],\n",
       " [63, 1, 1372, 0, 12, 'STAPLER'],\n",
       " [63, 1, 291, 0, 13, 'CHEMICAL'],\n",
       " [63, 1, 1550, 0, 14, 'VAULT'],\n",
       " [63, 1, 1279, 0, 15, 'SHEET']]"
      ]
     },
     "execution_count": 4,
     "metadata": {},
     "output_type": "execute_result"
    }
   ],
   "source": [
    "print(\"For list 100, there are 16 items studied:\")\n",
    "print(\"[subject index, session index, word index, list index, serial position, actual word]\")\n",
    "presents[0]\n",
    "\n"
   ]
  },
  {
   "cell_type": "code",
   "execution_count": 5,
   "metadata": {},
   "outputs": [
    {
     "name": "stdout",
     "output_type": "stream",
     "text": [
      "One can use [subject index, session index, list index] to uniquely map the correponding study trial for a given recall trial\n",
      "-1 means that the word is outside the wordpool\n",
      "sometimes a word from a different list is recalled - see PANTS\n"
     ]
    },
    {
     "data": {
      "text/plain": [
       "[[63, 1, 1279, 0, 15, 'SHEET'],\n",
       " [63, 1, 291, 0, 13, 'CHEMICAL'],\n",
       " [63, 1, 1618, 0, 6, 'WITNESS'],\n",
       " [63, 1, 203, 0, 1, 'BUTCHER'],\n",
       " [63, 1, 913, 0, 2, 'MONUMENT'],\n",
       " [63, 1, 737, 0, 0, 'INFANT'],\n",
       " [63, 1, 1258, 0, 9, 'SCULPTURE']]"
      ]
     },
     "execution_count": 5,
     "metadata": {},
     "output_type": "execute_result"
    }
   ],
   "source": [
    "print(\"One can use [subject index, session index, list index] to uniquely map the correponding study trial for a given recall trial\")\n",
    "print(\"-1 means that the word is outside the wordpool\")\n",
    "print(\"sometimes a word from a different list is recalled - see PANTS\" )\n",
    "recalls[0]"
   ]
  },
  {
   "cell_type": "code",
   "execution_count": 6,
   "metadata": {},
   "outputs": [
    {
     "name": "stdout",
     "output_type": "stream",
     "text": [
      "For list 100, there are 16 items studied:\n",
      "[subject index, session index, word index, list index, serial position, actual word]\n"
     ]
    },
    {
     "data": {
      "text/plain": [
       "[[187, 3, 497, 11, 0, 'DRILL'],\n",
       " [187, 3, 382, 11, 1, 'CORPORATION'],\n",
       " [187, 3, 653, 11, 2, 'GRADUATE'],\n",
       " [187, 3, 259, 11, 3, 'CATERPILLAR'],\n",
       " [187, 3, 339, 11, 4, 'COCOON'],\n",
       " [187, 3, 362, 11, 5, 'CONDUCTOR'],\n",
       " [187, 3, 1513, 11, 6, 'TRUMPET'],\n",
       " [187, 3, 1440, 11, 7, 'TEACHER'],\n",
       " [187, 3, 913, 11, 8, 'MONUMENT'],\n",
       " [187, 3, 1439, 11, 9, 'TEA'],\n",
       " [187, 3, 1401, 11, 10, 'SUGAR'],\n",
       " [187, 3, 711, 11, 11, 'HOE'],\n",
       " [187, 3, 1166, 11, 12, 'RANCH'],\n",
       " [187, 3, 83, 11, 13, 'BANK'],\n",
       " [187, 3, 1506, 11, 14, 'TRICYCLE'],\n",
       " [187, 3, 412, 11, 15, 'CROOK']]"
      ]
     },
     "execution_count": 6,
     "metadata": {},
     "output_type": "execute_result"
    }
   ],
   "source": [
    "print(\"For list 100, there are 16 items studied:\")\n",
    "print(\"[subject index, session index, word index, list index, serial position, actual word]\")\n",
    "presents[9004]\n"
   ]
  },
  {
   "cell_type": "code",
   "execution_count": 7,
   "metadata": {},
   "outputs": [
    {
     "name": "stdout",
     "output_type": "stream",
     "text": [
      "One can use [subject index, session index, list index] to uniquely map the correponding study trial for a given recall trial\n",
      "-1 means that the word is outside the wordpool\n",
      "sometimes a word from a different list is recalled - see PANTS\n"
     ]
    },
    {
     "data": {
      "text/plain": [
       "[[187, 3, 412, 11, 15, 'CROOK'],\n",
       " [187, 3, 83, 11, 13, 'BANK'],\n",
       " [187, 3, 382, 11, 1, 'CORPORATION'],\n",
       " [187, 3, 1439, 11, 9, 'TEA'],\n",
       " [187, 3, 1401, 11, 10, 'SUGAR'],\n",
       " [187, 3, 1229, -1, -1, 'SALT'],\n",
       " [187, 3, 339, 11, 4, 'COCOON'],\n",
       " [187, 3, 259, 11, 3, 'CATERPILLAR']]"
      ]
     },
     "execution_count": 7,
     "metadata": {},
     "output_type": "execute_result"
    }
   ],
   "source": [
    "print(\"One can use [subject index, session index, list index] to uniquely map the correponding study trial for a given recall trial\")\n",
    "print(\"-1 means that the word is outside the wordpool\")\n",
    "print(\"sometimes a word from a different list is recalled - see PANTS\" )\n",
    "recalls[9000]"
   ]
  }
 ],
 "metadata": {
  "kernelspec": {
   "display_name": "MemoryDataset",
   "language": "python",
   "name": "memorydataset"
  },
  "language_info": {
   "codemirror_mode": {
    "name": "ipython",
    "version": 3
   },
   "file_extension": ".py",
   "mimetype": "text/x-python",
   "name": "python",
   "nbconvert_exporter": "python",
   "pygments_lexer": "ipython3",
   "version": "3.10.2"
  }
 },
 "nbformat": 4,
 "nbformat_minor": 4
}
